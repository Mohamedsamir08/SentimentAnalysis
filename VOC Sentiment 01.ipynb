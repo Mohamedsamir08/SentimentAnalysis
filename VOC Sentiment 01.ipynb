{
 "cells": [
  {
   "cell_type": "code",
   "execution_count": 1,
   "metadata": {},
   "outputs": [
    {
     "name": "stderr",
     "output_type": "stream",
     "text": [
      "[nltk_data] Downloading package stopwords to\n",
      "[nltk_data]     C:\\Users\\moham\\AppData\\Roaming\\nltk_data...\n",
      "[nltk_data]   Unzipping corpora\\stopwords.zip.\n"
     ]
    }
   ],
   "source": [
    "import pandas as pd\n",
    "import numpy as np\n",
    "import re\n",
    "import nltk\n",
    "from sklearn.model_selection import train_test_split\n",
    "from sklearn.svm import SVC\n",
    "from sklearn.feature_extraction.text import TfidfVectorizer\n",
    "from sklearn.metrics import accuracy_score\n",
    "from nltk.corpus import stopwords\n",
    "import pickle\n",
    "\n",
    "# Load and preprocess data\n",
    "data_excel = pd.read_excel('Custmer VOC.xlsx')\n",
    "\n",
    "# Preprocessing function (improved with stopwords)\n",
    "def preprocess_arabic_text(text):\n",
    "    # Remove special characters and digits\n",
    "    text = re.sub(r'[^\\w\\s]', '', text)\n",
    "    text = re.sub(r'\\d+', '', text)\n",
    "    \n",
    "    # Remove Arabic diacritics\n",
    "    arabic_diacritics = re.compile(r'[ً-ْ]')\n",
    "    text = re.sub(arabic_diacritics, '', text)\n",
    "    \n",
    "    # Tokenize and remove stopwords\n",
    "    words = text.split()\n",
    "    words = [word for word in words if word not in arabic_stopwords]\n",
    "    return ' '.join(words)\n",
    "\n",
    "# Download Arabic stopwords\n",
    "nltk.download('stopwords')\n",
    "arabic_stopwords = set(stopwords.words('arabic'))\n",
    "\n",
    "# Apply preprocessing to the 'Customer Verbatim' column\n",
    "data_excel['Cleaned Verbatim'] = data_excel['Customer Verbatim'].apply(preprocess_arabic_text)\n"
   ]
  },
  {
   "cell_type": "code",
   "execution_count": 2,
   "metadata": {},
   "outputs": [
    {
     "name": "stdout",
     "output_type": "stream",
     "text": [
      "Validation Accuracy: 0.7916666666666666\n",
      "Test Accuracy: 0.85\n"
     ]
    }
   ],
   "source": [
    "# Initialize TfidfVectorizer\n",
    "vectorizer = TfidfVectorizer(max_features=5000)\n",
    "X = vectorizer.fit_transform(data_excel['Cleaned Verbatim'])\n",
    "y = data_excel['Rate'].apply(lambda x: 1 if x == 'Positive' else (-1 if x == 'Negative' else 0))\n",
    "\n",
    "# Split into training, validation, and test sets (60% train, 20% validation, 20% test)\n",
    "X_train, X_temp, y_train, y_temp = train_test_split(X, y, test_size=0.4, random_state=42)\n",
    "X_val, X_test, y_val, y_test = train_test_split(X_temp, y_temp, test_size=0.5, random_state=42)\n",
    "\n",
    "# Train the model (SVM with class_weight='balanced' to handle class imbalance)\n",
    "svm = SVC(C=1, kernel='linear', gamma='scale', class_weight='balanced')\n",
    "svm.fit(X_train, y_train)\n",
    "\n",
    "# Evaluate the model on validation set\n",
    "y_val_pred = svm.predict(X_val)\n",
    "val_accuracy = accuracy_score(y_val, y_val_pred)\n",
    "print(f\"Validation Accuracy: {val_accuracy}\")\n",
    "\n",
    "# Evaluate the model on test set\n",
    "y_test_pred = svm.predict(X_test)\n",
    "test_accuracy = accuracy_score(y_test, y_test_pred)\n",
    "print(f\"Test Accuracy: {test_accuracy}\")"
   ]
  },
  {
   "cell_type": "code",
   "execution_count": 3,
   "metadata": {},
   "outputs": [
    {
     "name": "stdout",
     "output_type": "stream",
     "text": [
      "Model and vectorizer saved successfully.\n"
     ]
    }
   ],
   "source": [
    "# Save the SVM model and TF-IDF vectorizer using pickle\n",
    "with open('svm_model.pkl', 'wb') as model_file:\n",
    "    pickle.dump(svm, model_file)\n",
    "\n",
    "with open('tfidf_vectorizer.pkl', 'wb') as vectorizer_file:\n",
    "    pickle.dump(vectorizer, vectorizer_file)\n",
    "\n",
    "print(\"Model and vectorizer saved successfully.\")\n"
   ]
  },
  {
   "cell_type": "code",
   "execution_count": 4,
   "metadata": {},
   "outputs": [
    {
     "name": "stderr",
     "output_type": "stream",
     "text": [
      "2024-09-08 17:59:25.720 \n",
      "  \u001b[33m\u001b[1mWarning:\u001b[0m to view this Streamlit app on a browser, run it with the following\n",
      "  command:\n",
      "\n",
      "    streamlit run d:\\Anaconda3\\envs\\samirenv\\Lib\\site-packages\\ipykernel_launcher.py [ARGUMENTS]\n"
     ]
    }
   ],
   "source": [
    "# Streamlit App for Sentiment Analysis\n",
    "import streamlit as st\n",
    "\n",
    "# Load the trained SVM model and vectorizer\n",
    "with open('svm_model.pkl', 'rb') as model_file:\n",
    "    svm_model = pickle.load(model_file)\n",
    "\n",
    "with open('tfidf_vectorizer.pkl', 'rb') as vectorizer_file:\n",
    "    vectorizer = pickle.load(vectorizer_file)\n",
    "\n",
    "st.title(\"Sentiment Analysis Application\")\n",
    "\n",
    "# Input box for user text\n",
    "user_input = st.text_area(\"Enter text for sentiment analysis\")\n",
    "\n",
    "if st.button(\"Predict\"):\n",
    "    # Preprocess the user input\n",
    "    cleaned_input = preprocess_arabic_text(user_input)\n",
    "    vectorized_input = vectorizer.transform([cleaned_input])\n",
    "    \n",
    "    # Make predictions with the SVM model\n",
    "    prediction_svm = svm_model.predict(vectorized_input)[0]\n",
    "    \n",
    "    # Map the prediction to sentiment labels\n",
    "    if prediction_svm == 1:\n",
    "        sentiment = \"Positive\"\n",
    "    elif prediction_svm == -1:\n",
    "        sentiment = \"Negative\"\n",
    "    else:\n",
    "        sentiment = \"Neutral\"\n",
    "    \n",
    "    # Display the result\n",
    "    st.write(f\"Predicted Sentiment: {sentiment}\")"
   ]
  }
 ],
 "metadata": {
  "kernelspec": {
   "display_name": "samirenv",
   "language": "python",
   "name": "python3"
  },
  "language_info": {
   "codemirror_mode": {
    "name": "ipython",
    "version": 3
   },
   "file_extension": ".py",
   "mimetype": "text/x-python",
   "name": "python",
   "nbconvert_exporter": "python",
   "pygments_lexer": "ipython3",
   "version": "3.11.4"
  }
 },
 "nbformat": 4,
 "nbformat_minor": 2
}
